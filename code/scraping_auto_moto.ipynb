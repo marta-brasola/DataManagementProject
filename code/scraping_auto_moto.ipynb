{
 "cells": [
  {
   "cell_type": "markdown",
   "metadata": {},
   "source": [
    "# Exploring the Link between Safety Ratings and Car Price\n",
    "\n",
    "### Marta Brasola 905305\n",
    "##### September 2023"
   ]
  },
  {
   "cell_type": "code",
   "execution_count": 1,
   "metadata": {},
   "outputs": [],
   "source": [
    "# import libraries\n",
    "from selenium import webdriver\n",
    "from selenium.webdriver.chrome.service import Service\n",
    "from selenium.webdriver.common.by import By\n",
    "from webdriver_manager.chrome import ChromeDriverManager\n",
    "\n",
    "import time\n",
    "import pandas as pd\n",
    "import numpy as np\n",
    "from bs4 import BeautifulSoup\n",
    "import requests\n",
    "from itertools import zip_longest\n"
   ]
  },
  {
   "cell_type": "markdown",
   "metadata": {},
   "source": [
    "## Scraping automoto.it"
   ]
  },
  {
   "cell_type": "code",
   "execution_count": 10,
   "metadata": {},
   "outputs": [],
   "source": [
    "driver = webdriver.Chrome(service=Service(ChromeDriverManager().install()))\n",
    "\n",
    "url = 'https://www.automoto.it/listino/ricerca'\n",
    "\n",
    "driver.get(url)\n",
    "driver.implicitly_wait(5)\n",
    "\n",
    "banner_elements = driver.find_elements(By.ID,\"iubenda-cs-banner\")\n",
    "\n",
    "for element in banner_elements:\n",
    "    button = element.find_element(By.CSS_SELECTOR,\"button.app-btn.app-btn-accept.iubenda-cs-accept-btn\")\n",
    "    button.click()\n",
    "    \n",
    "driver.implicitly_wait(10)"
   ]
  },
  {
   "cell_type": "code",
   "execution_count": 11,
   "metadata": {},
   "outputs": [],
   "source": [
    "time.sleep(10)\n",
    "\n",
    "container_element = driver.find_element(By.CSS_SELECTOR, \"div.container-main\")\n",
    "\n",
    "pause_time = 1  \n",
    "\n",
    "last_height = driver.execute_script(\"return arguments[0].scrollHeight;\", container_element)\n",
    "\n",
    "while True:\n",
    "    driver.execute_script(\"arguments[0].scrollIntoView(false);\", container_element)\n",
    "\n",
    "    time.sleep(pause_time)\n",
    "\n",
    "    new_height = driver.execute_script(\"return arguments[0].scrollHeight;\", container_element)\n",
    "\n",
    "    # Check if the scroll height no longer increases\n",
    "    if new_height == last_height:\n",
    "        break\n",
    "\n",
    "    # Update\n",
    "    last_height = new_height"
   ]
  },
  {
   "cell_type": "code",
   "execution_count": 12,
   "metadata": {},
   "outputs": [],
   "source": [
    "soup = BeautifulSoup(driver.page_source, features=\"html.parser\")"
   ]
  },
  {
   "cell_type": "code",
   "execution_count": 13,
   "metadata": {},
   "outputs": [],
   "source": [
    "elements = soup.find_all(\"div\", class_=\"col col-12 col-md-6 col-xl-4\")\n",
    "\n",
    "titles = []\n",
    "prices = []\n",
    "labels = []\n",
    "ratings = []\n",
    "\n",
    "for element in elements:\n",
    "    \n",
    "    # Extract title\n",
    "    title_element = element.select(\"h2.plist-pcard-title.plist-pcard-title--mh a[title]\")\n",
    "    for title in title_element:\n",
    "        if title:\n",
    "            titles.append(title['title'])\n",
    "        else:\n",
    "            None\n",
    "\n",
    "    # Extract price\n",
    "    price_element = element.find(\"div\", class_=\"plist-pcard-price\")\n",
    "    price = price_element.get_text(strip=True) if price_element else None\n",
    "    if price is not None:\n",
    "        prices.append(price)\n",
    "\n",
    "    # Extract label\n",
    "    label_element = element.find(\"div\", class_=\"plist-pcard-label\")\n",
    "    label = label_element.get_text(strip=True) if label_element else None\n",
    "    if label is not None:\n",
    "        labels.append(label)\n",
    "\n",
    "\n",
    "data = {\n",
    "    \"brand_model\": titles,\n",
    "    \"price_range\": prices,\n",
    "    \"setups\": labels,\n",
    "\n",
    "}\n",
    "auto = pd.DataFrame(data)"
   ]
  },
  {
   "cell_type": "code",
   "execution_count": 14,
   "metadata": {},
   "outputs": [],
   "source": [
    "#driver.quit()"
   ]
  },
  {
   "cell_type": "code",
   "execution_count": 15,
   "metadata": {},
   "outputs": [
    {
     "data": {
      "text/html": [
       "<div>\n",
       "<style scoped>\n",
       "    .dataframe tbody tr th:only-of-type {\n",
       "        vertical-align: middle;\n",
       "    }\n",
       "\n",
       "    .dataframe tbody tr th {\n",
       "        vertical-align: top;\n",
       "    }\n",
       "\n",
       "    .dataframe thead th {\n",
       "        text-align: right;\n",
       "    }\n",
       "</style>\n",
       "<table border=\"1\" class=\"dataframe\">\n",
       "  <thead>\n",
       "    <tr style=\"text-align: right;\">\n",
       "      <th></th>\n",
       "      <th>brand_model</th>\n",
       "      <th>price_range</th>\n",
       "      <th>setups</th>\n",
       "    </tr>\n",
       "  </thead>\n",
       "  <tbody>\n",
       "    <tr>\n",
       "      <th>0</th>\n",
       "      <td>Abarth 500e</td>\n",
       "      <td>da €37.950\\n                    a €43.000</td>\n",
       "      <td>3 allestimenti</td>\n",
       "    </tr>\n",
       "    <tr>\n",
       "      <th>1</th>\n",
       "      <td>Abarth 500e Cabrio</td>\n",
       "      <td>da €37.950\\n                    a €43.000</td>\n",
       "      <td>3 allestimenti</td>\n",
       "    </tr>\n",
       "    <tr>\n",
       "      <th>2</th>\n",
       "      <td>Abarth 595</td>\n",
       "      <td>€26.800</td>\n",
       "      <td>1 allestimenti</td>\n",
       "    </tr>\n",
       "    <tr>\n",
       "      <th>3</th>\n",
       "      <td>Abarth 595 Cabrio</td>\n",
       "      <td>€28.800</td>\n",
       "      <td>1 allestimenti</td>\n",
       "    </tr>\n",
       "    <tr>\n",
       "      <th>4</th>\n",
       "      <td>Abarth 695</td>\n",
       "      <td>da €30.100\\n                    a €31.700</td>\n",
       "      <td>2 allestimenti</td>\n",
       "    </tr>\n",
       "  </tbody>\n",
       "</table>\n",
       "</div>"
      ],
      "text/plain": [
       "          brand_model                                price_range  \\\n",
       "0         Abarth 500e  da €37.950\\n                    a €43.000   \n",
       "1  Abarth 500e Cabrio  da €37.950\\n                    a €43.000   \n",
       "2          Abarth 595                                    €26.800   \n",
       "3   Abarth 595 Cabrio                                    €28.800   \n",
       "4          Abarth 695  da €30.100\\n                    a €31.700   \n",
       "\n",
       "           setups  \n",
       "0  3 allestimenti  \n",
       "1  3 allestimenti  \n",
       "2  1 allestimenti  \n",
       "3  1 allestimenti  \n",
       "4  2 allestimenti  "
      ]
     },
     "execution_count": 15,
     "metadata": {},
     "output_type": "execute_result"
    }
   ],
   "source": [
    "auto.head()"
   ]
  },
  {
   "cell_type": "code",
   "execution_count": 16,
   "metadata": {},
   "outputs": [
    {
     "data": {
      "text/plain": [
       "(701, 3)"
      ]
     },
     "execution_count": 16,
     "metadata": {},
     "output_type": "execute_result"
    }
   ],
   "source": [
    "auto.shape"
   ]
  },
  {
   "cell_type": "code",
   "execution_count": 17,
   "metadata": {},
   "outputs": [],
   "source": [
    "time.sleep(7)\n",
    "driver.quit()\n",
    "time.sleep(3)"
   ]
  },
  {
   "cell_type": "markdown",
   "metadata": {},
   "source": [
    "## Cleaning the automoto.it dataset"
   ]
  },
  {
   "cell_type": "code",
   "execution_count": 18,
   "metadata": {},
   "outputs": [],
   "source": [
    "regex_pattern = r'€([\\d.]+)'\n",
    "prices = auto['price_range'].str.findall(regex_pattern)\n",
    "\n",
    "# If there are two prices in each row, assign them to 'min_price' and 'max_price'\n",
    "auto['min_price'] = [p[0] if len(p) >= 1 else None for p in prices]\n",
    "auto['max_price'] = [p[1] if len(p) == 2 else None for p in prices]"
   ]
  },
  {
   "cell_type": "code",
   "execution_count": 19,
   "metadata": {},
   "outputs": [
    {
     "data": {
      "text/plain": [
       "array(['1 allestimenti', '4 allestimenti', '2 allestimenti'], dtype=object)"
      ]
     },
     "execution_count": 19,
     "metadata": {},
     "output_type": "execute_result"
    }
   ],
   "source": [
    "auto[auto['max_price'].isnull()]['setups'].unique()"
   ]
  },
  {
   "cell_type": "code",
   "execution_count": 20,
   "metadata": {},
   "outputs": [
    {
     "data": {
      "text/html": [
       "<div>\n",
       "<style scoped>\n",
       "    .dataframe tbody tr th:only-of-type {\n",
       "        vertical-align: middle;\n",
       "    }\n",
       "\n",
       "    .dataframe tbody tr th {\n",
       "        vertical-align: top;\n",
       "    }\n",
       "\n",
       "    .dataframe thead th {\n",
       "        text-align: right;\n",
       "    }\n",
       "</style>\n",
       "<table border=\"1\" class=\"dataframe\">\n",
       "  <thead>\n",
       "    <tr style=\"text-align: right;\">\n",
       "      <th></th>\n",
       "      <th>brand_model</th>\n",
       "      <th>price_range</th>\n",
       "      <th>setups</th>\n",
       "      <th>min_price</th>\n",
       "      <th>max_price</th>\n",
       "    </tr>\n",
       "  </thead>\n",
       "  <tbody>\n",
       "    <tr>\n",
       "      <th>287</th>\n",
       "      <td>Ineos Grenadier Pick-up</td>\n",
       "      <td>€67.410</td>\n",
       "      <td>4 allestimenti</td>\n",
       "      <td>67.410</td>\n",
       "      <td>None</td>\n",
       "    </tr>\n",
       "    <tr>\n",
       "      <th>614</th>\n",
       "      <td>Suzuki Across</td>\n",
       "      <td>€55.400</td>\n",
       "      <td>2 allestimenti</td>\n",
       "      <td>55.400</td>\n",
       "      <td>None</td>\n",
       "    </tr>\n",
       "    <tr>\n",
       "      <th>621</th>\n",
       "      <td>Tazzari Ev Minimax</td>\n",
       "      <td>€13.107</td>\n",
       "      <td>2 allestimenti</td>\n",
       "      <td>13.107</td>\n",
       "      <td>None</td>\n",
       "    </tr>\n",
       "  </tbody>\n",
       "</table>\n",
       "</div>"
      ],
      "text/plain": [
       "                 brand_model price_range          setups min_price max_price\n",
       "287  Ineos Grenadier Pick-up     €67.410  4 allestimenti    67.410      None\n",
       "614            Suzuki Across     €55.400  2 allestimenti    55.400      None\n",
       "621       Tazzari Ev Minimax     €13.107  2 allestimenti    13.107      None"
      ]
     },
     "execution_count": 20,
     "metadata": {},
     "output_type": "execute_result"
    }
   ],
   "source": [
    "null = auto[auto['max_price'].isnull()]\n",
    "null[(null['setups'] == '4 allestimenti') | (null['setups'] == '2 allestimenti')]"
   ]
  },
  {
   "cell_type": "code",
   "execution_count": 21,
   "metadata": {},
   "outputs": [
    {
     "data": {
      "text/html": [
       "<div>\n",
       "<style scoped>\n",
       "    .dataframe tbody tr th:only-of-type {\n",
       "        vertical-align: middle;\n",
       "    }\n",
       "\n",
       "    .dataframe tbody tr th {\n",
       "        vertical-align: top;\n",
       "    }\n",
       "\n",
       "    .dataframe thead th {\n",
       "        text-align: right;\n",
       "    }\n",
       "</style>\n",
       "<table border=\"1\" class=\"dataframe\">\n",
       "  <thead>\n",
       "    <tr style=\"text-align: right;\">\n",
       "      <th></th>\n",
       "      <th>brand_model</th>\n",
       "      <th>price_range</th>\n",
       "      <th>setups</th>\n",
       "      <th>min_price</th>\n",
       "      <th>max_price</th>\n",
       "    </tr>\n",
       "  </thead>\n",
       "  <tbody>\n",
       "    <tr>\n",
       "      <th>0</th>\n",
       "      <td>Abarth 500e</td>\n",
       "      <td>da €37.950\\n                    a €43.000</td>\n",
       "      <td>3 allestimenti</td>\n",
       "      <td>37.950</td>\n",
       "      <td>43.000</td>\n",
       "    </tr>\n",
       "    <tr>\n",
       "      <th>1</th>\n",
       "      <td>Abarth 500e Cabrio</td>\n",
       "      <td>da €37.950\\n                    a €43.000</td>\n",
       "      <td>3 allestimenti</td>\n",
       "      <td>37.950</td>\n",
       "      <td>43.000</td>\n",
       "    </tr>\n",
       "    <tr>\n",
       "      <th>2</th>\n",
       "      <td>Abarth 595</td>\n",
       "      <td>€26.800</td>\n",
       "      <td>1 allestimenti</td>\n",
       "      <td>26.800</td>\n",
       "      <td>None</td>\n",
       "    </tr>\n",
       "    <tr>\n",
       "      <th>3</th>\n",
       "      <td>Abarth 595 Cabrio</td>\n",
       "      <td>€28.800</td>\n",
       "      <td>1 allestimenti</td>\n",
       "      <td>28.800</td>\n",
       "      <td>None</td>\n",
       "    </tr>\n",
       "    <tr>\n",
       "      <th>4</th>\n",
       "      <td>Abarth 695</td>\n",
       "      <td>da €30.100\\n                    a €31.700</td>\n",
       "      <td>2 allestimenti</td>\n",
       "      <td>30.100</td>\n",
       "      <td>31.700</td>\n",
       "    </tr>\n",
       "  </tbody>\n",
       "</table>\n",
       "</div>"
      ],
      "text/plain": [
       "          brand_model                                price_range  \\\n",
       "0         Abarth 500e  da €37.950\\n                    a €43.000   \n",
       "1  Abarth 500e Cabrio  da €37.950\\n                    a €43.000   \n",
       "2          Abarth 595                                    €26.800   \n",
       "3   Abarth 595 Cabrio                                    €28.800   \n",
       "4          Abarth 695  da €30.100\\n                    a €31.700   \n",
       "\n",
       "           setups min_price max_price  \n",
       "0  3 allestimenti    37.950    43.000  \n",
       "1  3 allestimenti    37.950    43.000  \n",
       "2  1 allestimenti    26.800      None  \n",
       "3  1 allestimenti    28.800      None  \n",
       "4  2 allestimenti    30.100    31.700  "
      ]
     },
     "execution_count": 21,
     "metadata": {},
     "output_type": "execute_result"
    }
   ],
   "source": [
    "auto.head()"
   ]
  },
  {
   "cell_type": "markdown",
   "metadata": {},
   "source": [
    "After double checking all cars with one single value and more than one setup I can confirm that for every single setup the price is the same.\n",
    "Now I can correctly compute the None values of the max price with the same value of the minimum price."
   ]
  },
  {
   "cell_type": "code",
   "execution_count": 22,
   "metadata": {},
   "outputs": [],
   "source": [
    "auto['max_price'].fillna(auto['min_price'], inplace=True)"
   ]
  },
  {
   "cell_type": "code",
   "execution_count": 23,
   "metadata": {},
   "outputs": [
    {
     "data": {
      "text/plain": [
       "brand_model    0\n",
       "price_range    0\n",
       "setups         0\n",
       "min_price      0\n",
       "max_price      0\n",
       "dtype: int64"
      ]
     },
     "execution_count": 23,
     "metadata": {},
     "output_type": "execute_result"
    }
   ],
   "source": [
    "auto.isnull().sum()"
   ]
  },
  {
   "cell_type": "code",
   "execution_count": 24,
   "metadata": {},
   "outputs": [],
   "source": [
    "auto['min_price'] = auto['min_price'].str.replace('.', '').astype(int)\n",
    "auto['max_price'] = auto['max_price'].str.replace('.', '').astype(int)\n",
    "\n",
    "auto.drop(columns='price_range', inplace=True)"
   ]
  },
  {
   "cell_type": "code",
   "execution_count": 25,
   "metadata": {},
   "outputs": [
    {
     "data": {
      "text/html": [
       "<div>\n",
       "<style scoped>\n",
       "    .dataframe tbody tr th:only-of-type {\n",
       "        vertical-align: middle;\n",
       "    }\n",
       "\n",
       "    .dataframe tbody tr th {\n",
       "        vertical-align: top;\n",
       "    }\n",
       "\n",
       "    .dataframe thead th {\n",
       "        text-align: right;\n",
       "    }\n",
       "</style>\n",
       "<table border=\"1\" class=\"dataframe\">\n",
       "  <thead>\n",
       "    <tr style=\"text-align: right;\">\n",
       "      <th></th>\n",
       "      <th>brand_model</th>\n",
       "      <th>setups</th>\n",
       "      <th>min_price</th>\n",
       "      <th>max_price</th>\n",
       "    </tr>\n",
       "  </thead>\n",
       "  <tbody>\n",
       "    <tr>\n",
       "      <th>0</th>\n",
       "      <td>Abarth 500e</td>\n",
       "      <td>3 allestimenti</td>\n",
       "      <td>37950</td>\n",
       "      <td>43000</td>\n",
       "    </tr>\n",
       "    <tr>\n",
       "      <th>1</th>\n",
       "      <td>Abarth 500e Cabrio</td>\n",
       "      <td>3 allestimenti</td>\n",
       "      <td>37950</td>\n",
       "      <td>43000</td>\n",
       "    </tr>\n",
       "    <tr>\n",
       "      <th>2</th>\n",
       "      <td>Abarth 595</td>\n",
       "      <td>1 allestimenti</td>\n",
       "      <td>26800</td>\n",
       "      <td>26800</td>\n",
       "    </tr>\n",
       "    <tr>\n",
       "      <th>3</th>\n",
       "      <td>Abarth 595 Cabrio</td>\n",
       "      <td>1 allestimenti</td>\n",
       "      <td>28800</td>\n",
       "      <td>28800</td>\n",
       "    </tr>\n",
       "    <tr>\n",
       "      <th>4</th>\n",
       "      <td>Abarth 695</td>\n",
       "      <td>2 allestimenti</td>\n",
       "      <td>30100</td>\n",
       "      <td>31700</td>\n",
       "    </tr>\n",
       "  </tbody>\n",
       "</table>\n",
       "</div>"
      ],
      "text/plain": [
       "          brand_model          setups  min_price  max_price\n",
       "0         Abarth 500e  3 allestimenti      37950      43000\n",
       "1  Abarth 500e Cabrio  3 allestimenti      37950      43000\n",
       "2          Abarth 595  1 allestimenti      26800      26800\n",
       "3   Abarth 595 Cabrio  1 allestimenti      28800      28800\n",
       "4          Abarth 695  2 allestimenti      30100      31700"
      ]
     },
     "execution_count": 25,
     "metadata": {},
     "output_type": "execute_result"
    }
   ],
   "source": [
    "auto.head()"
   ]
  },
  {
   "cell_type": "code",
   "execution_count": 26,
   "metadata": {},
   "outputs": [],
   "source": [
    "# Split the column into \"brand\" and \"model\"\n",
    "auto['brand'] = auto['brand_model'].str.split(n=1).str[0]\n",
    "auto['model'] = auto['brand_model'].str.split(n=1).str[1]\n",
    "\n",
    "# Handle the special case for \"Alfa Romeo\"\n",
    "mask1 = auto['brand_model'].str.startswith('Alfa Romeo')\n",
    "auto.loc[mask1, 'brand'] = 'Alfa Romeo'\n",
    "auto.loc[mask1, 'model'] = auto.loc[mask1, 'brand_model'].str.split(n=2).str[2]\n",
    "\n",
    "# Handle the special case for \"Alfa Romeo\"\n",
    "mask2 = auto['brand_model'].str.startswith('Aston Martin')\n",
    "auto.loc[mask2, 'brand'] = 'Aston Martin'\n",
    "auto.loc[mask2, 'model'] = auto.loc[mask2, 'brand_model'].str.split(n=2).str[2]"
   ]
  },
  {
   "cell_type": "code",
   "execution_count": 27,
   "metadata": {},
   "outputs": [],
   "source": [
    "auto['brand_model'] = auto['brand_model'].str.lower()\n",
    "auto['brand'] = auto['brand'].str.lower()\n",
    "auto['model'] = auto['model'].str.lower()"
   ]
  },
  {
   "cell_type": "code",
   "execution_count": 28,
   "metadata": {},
   "outputs": [
    {
     "data": {
      "text/html": [
       "<div>\n",
       "<style scoped>\n",
       "    .dataframe tbody tr th:only-of-type {\n",
       "        vertical-align: middle;\n",
       "    }\n",
       "\n",
       "    .dataframe tbody tr th {\n",
       "        vertical-align: top;\n",
       "    }\n",
       "\n",
       "    .dataframe thead th {\n",
       "        text-align: right;\n",
       "    }\n",
       "</style>\n",
       "<table border=\"1\" class=\"dataframe\">\n",
       "  <thead>\n",
       "    <tr style=\"text-align: right;\">\n",
       "      <th></th>\n",
       "      <th>brand_model</th>\n",
       "      <th>setups</th>\n",
       "      <th>min_price</th>\n",
       "      <th>max_price</th>\n",
       "      <th>brand</th>\n",
       "      <th>model</th>\n",
       "    </tr>\n",
       "  </thead>\n",
       "  <tbody>\n",
       "    <tr>\n",
       "      <th>0</th>\n",
       "      <td>abarth 500e</td>\n",
       "      <td>3 allestimenti</td>\n",
       "      <td>37950</td>\n",
       "      <td>43000</td>\n",
       "      <td>abarth</td>\n",
       "      <td>500e</td>\n",
       "    </tr>\n",
       "    <tr>\n",
       "      <th>1</th>\n",
       "      <td>abarth 500e cabrio</td>\n",
       "      <td>3 allestimenti</td>\n",
       "      <td>37950</td>\n",
       "      <td>43000</td>\n",
       "      <td>abarth</td>\n",
       "      <td>500e cabrio</td>\n",
       "    </tr>\n",
       "    <tr>\n",
       "      <th>2</th>\n",
       "      <td>abarth 595</td>\n",
       "      <td>1 allestimenti</td>\n",
       "      <td>26800</td>\n",
       "      <td>26800</td>\n",
       "      <td>abarth</td>\n",
       "      <td>595</td>\n",
       "    </tr>\n",
       "    <tr>\n",
       "      <th>3</th>\n",
       "      <td>abarth 595 cabrio</td>\n",
       "      <td>1 allestimenti</td>\n",
       "      <td>28800</td>\n",
       "      <td>28800</td>\n",
       "      <td>abarth</td>\n",
       "      <td>595 cabrio</td>\n",
       "    </tr>\n",
       "    <tr>\n",
       "      <th>4</th>\n",
       "      <td>abarth 695</td>\n",
       "      <td>2 allestimenti</td>\n",
       "      <td>30100</td>\n",
       "      <td>31700</td>\n",
       "      <td>abarth</td>\n",
       "      <td>695</td>\n",
       "    </tr>\n",
       "  </tbody>\n",
       "</table>\n",
       "</div>"
      ],
      "text/plain": [
       "          brand_model          setups  min_price  max_price   brand  \\\n",
       "0         abarth 500e  3 allestimenti      37950      43000  abarth   \n",
       "1  abarth 500e cabrio  3 allestimenti      37950      43000  abarth   \n",
       "2          abarth 595  1 allestimenti      26800      26800  abarth   \n",
       "3   abarth 595 cabrio  1 allestimenti      28800      28800  abarth   \n",
       "4          abarth 695  2 allestimenti      30100      31700  abarth   \n",
       "\n",
       "         model  \n",
       "0         500e  \n",
       "1  500e cabrio  \n",
       "2          595  \n",
       "3   595 cabrio  \n",
       "4          695  "
      ]
     },
     "execution_count": 28,
     "metadata": {},
     "output_type": "execute_result"
    }
   ],
   "source": [
    "auto.head()"
   ]
  },
  {
   "cell_type": "code",
   "execution_count": 89,
   "metadata": {},
   "outputs": [],
   "source": [
    "auto = auto.drop(auto[auto['model'].str.contains('furgone')].index).reset_index(drop=True)"
   ]
  },
  {
   "cell_type": "code",
   "execution_count": 90,
   "metadata": {},
   "outputs": [],
   "source": [
    "auto = auto.drop(auto[auto['model'].str.contains('telaio')].index).reset_index(drop=True)"
   ]
  },
  {
   "cell_type": "code",
   "execution_count": 91,
   "metadata": {},
   "outputs": [
    {
     "data": {
      "text/plain": [
       "(625, 6)"
      ]
     },
     "execution_count": 91,
     "metadata": {},
     "output_type": "execute_result"
    }
   ],
   "source": [
    "auto.shape"
   ]
  },
  {
   "cell_type": "markdown",
   "metadata": {},
   "source": [
    "## Sraping Euro NCAP Website"
   ]
  },
  {
   "cell_type": "code",
   "execution_count": 52,
   "metadata": {},
   "outputs": [],
   "source": [
    "driver = webdriver.Chrome(service=Service(ChromeDriverManager().install()))\n",
    "\n",
    "url = \"https://www.euroncap.com/en/ratings-rewards/latest-safety-ratings/#?selectedMake=0&selectedMakeName=Select%20a%20make&selectedModel=0&selectedStar=&includeFullSafetyPackage=true&includeStandardSafetyPackage=true&selectedModelName=All&selectedProtocols=49446,45155,41776,40302,34803,30636,26061,24370,-1&selectedClasses=1202,1199,1201,1196,1205,1203,1198,1179,40250,1197,1204,1180,34736,44997&allClasses=true&allProtocols=true&allDriverAssistanceTechnologies=false&selectedDriverAssistanceTechnologies=&thirdRowFitment=false\"\n",
    "driver.get(url)\n",
    "driver.implicitly_wait(5)\n",
    "\n",
    "button = driver.find_element(By.ID, \"impliedsubmit\")\n",
    "button.click()\n",
    "\n",
    "time.sleep(10)"
   ]
  },
  {
   "cell_type": "code",
   "execution_count": 53,
   "metadata": {},
   "outputs": [],
   "source": [
    "soup = BeautifulSoup(driver.page_source, features=\"html.parser\")"
   ]
  },
  {
   "cell_type": "code",
   "execution_count": 55,
   "metadata": {},
   "outputs": [],
   "source": [
    "elements = soup.find_all(id=\"rating-2014\")"
   ]
  },
  {
   "cell_type": "code",
   "execution_count": 57,
   "metadata": {},
   "outputs": [],
   "source": [
    "data = []\n",
    "\n",
    "for element in elements:\n",
    "    rating_year = element.find(\"h3\", class_=\"ng-binding\").get_text(strip=True)\n",
    "    \n",
    "    sub = element.select(\"div.rating-table-row.ng-scope\")\n",
    "    \n",
    "    for row in sub:\n",
    "        model_elements = row.find_all(class_=\"name ng-binding\")\n",
    "        \n",
    "        safety_equip_elements = row.select(\"div.rating-table-row-c.c10\")\n",
    "\n",
    "        star_elements = row.find_all(class_=\"stars\")\n",
    "        \n",
    "        adult_elements = row.select(\"div.rating-table-row-c.c3.note.adult-occupant\") \n",
    "        child_elements = row.select(\"div.rating-table-row-c.c4.note.child-occupant\") \n",
    "        pedestrian_elements = row.select(\"div.rating-table-row-c.c5.note.pedestrian\")\n",
    "        safety_elements = row.select(\"div.rating-table-row-c.c6.note.safety-assist\")\n",
    "        \n",
    "        for model_element, safety_equip_element, star_element, adult_element, child_element, pedestrian_element, safety_element in zip_longest(model_elements, safety_equip_elements,\n",
    "                                                                                                                                       star_elements, adult_elements,child_elements,\n",
    "                                                                                                                                      pedestrian_elements,safety_elements, fillvalue=None):\n",
    "            model_name = model_element.get_text(strip=True)\n",
    "            \n",
    "            safety_equip = safety_equip_element.get_text(strip=True) if safety_equip_element is not None else None\n",
    "            \n",
    "            star_rating = star_element.find(\"img\").get(\"alt\")\n",
    "\n",
    "            perc1 = adult_element.get_text(strip=True)\n",
    "            perc2 = child_element.get_text(strip=True)\n",
    "            perc3 = pedestrian_element.get_text(strip=True)\n",
    "            perc4 = safety_element.get_text(strip=True)\n",
    "\n",
    "            data.append({\"brand_model\": model_name, \n",
    "                         \"safety_equipement\": safety_equip,  \n",
    "                         \"rating_year\": rating_year, \n",
    "                         \"star_rating\": star_rating,\n",
    "                         'adult_occupant_safety': perc1,\n",
    "                         'child_occupant_safety': perc2,\n",
    "                         'road_users_safety': perc3,\n",
    "                         'safety_assist': perc4})\n",
    "\n",
    "euro = pd.DataFrame(data)\n"
   ]
  },
  {
   "cell_type": "code",
   "execution_count": 58,
   "metadata": {},
   "outputs": [
    {
     "data": {
      "text/html": [
       "<div>\n",
       "<style scoped>\n",
       "    .dataframe tbody tr th:only-of-type {\n",
       "        vertical-align: middle;\n",
       "    }\n",
       "\n",
       "    .dataframe tbody tr th {\n",
       "        vertical-align: top;\n",
       "    }\n",
       "\n",
       "    .dataframe thead th {\n",
       "        text-align: right;\n",
       "    }\n",
       "</style>\n",
       "<table border=\"1\" class=\"dataframe\">\n",
       "  <thead>\n",
       "    <tr style=\"text-align: right;\">\n",
       "      <th></th>\n",
       "      <th>brand_model</th>\n",
       "      <th>safety_equipement</th>\n",
       "      <th>rating_year</th>\n",
       "      <th>star_rating</th>\n",
       "      <th>adult_occupant_safety</th>\n",
       "      <th>child_occupant_safety</th>\n",
       "      <th>road_users_safety</th>\n",
       "      <th>safety_assist</th>\n",
       "    </tr>\n",
       "  </thead>\n",
       "  <tbody>\n",
       "    <tr>\n",
       "      <th>0</th>\n",
       "      <td>Lexus RZ</td>\n",
       "      <td>Standard</td>\n",
       "      <td>2023 - Rating</td>\n",
       "      <td>5</td>\n",
       "      <td>87%</td>\n",
       "      <td>87%</td>\n",
       "      <td>84%</td>\n",
       "      <td>81%</td>\n",
       "    </tr>\n",
       "    <tr>\n",
       "      <th>1</th>\n",
       "      <td>NIO EL7</td>\n",
       "      <td>Standard</td>\n",
       "      <td>2023 - Rating</td>\n",
       "      <td>5</td>\n",
       "      <td>93%</td>\n",
       "      <td>85%</td>\n",
       "      <td>80%</td>\n",
       "      <td>79%</td>\n",
       "    </tr>\n",
       "    <tr>\n",
       "      <th>2</th>\n",
       "      <td>NIO ET5</td>\n",
       "      <td>Standard</td>\n",
       "      <td>2023 - Rating</td>\n",
       "      <td>5</td>\n",
       "      <td>96%</td>\n",
       "      <td>85%</td>\n",
       "      <td>83%</td>\n",
       "      <td>81%</td>\n",
       "    </tr>\n",
       "    <tr>\n",
       "      <th>3</th>\n",
       "      <td>Jeep Grand Cherokee</td>\n",
       "      <td>Standard</td>\n",
       "      <td>2022 - Rating</td>\n",
       "      <td>5</td>\n",
       "      <td>84%</td>\n",
       "      <td>89%</td>\n",
       "      <td>81%</td>\n",
       "      <td>81%</td>\n",
       "    </tr>\n",
       "    <tr>\n",
       "      <th>4</th>\n",
       "      <td>CHERY OMODA5</td>\n",
       "      <td>Standard</td>\n",
       "      <td>2022 - Rating</td>\n",
       "      <td>5</td>\n",
       "      <td>87%</td>\n",
       "      <td>87%</td>\n",
       "      <td>68%</td>\n",
       "      <td>88%</td>\n",
       "    </tr>\n",
       "  </tbody>\n",
       "</table>\n",
       "</div>"
      ],
      "text/plain": [
       "           brand_model safety_equipement    rating_year star_rating  \\\n",
       "0             Lexus RZ          Standard  2023 - Rating           5   \n",
       "1              NIO EL7          Standard  2023 - Rating           5   \n",
       "2              NIO ET5          Standard  2023 - Rating           5   \n",
       "3  Jeep Grand Cherokee          Standard  2022 - Rating           5   \n",
       "4         CHERY OMODA5          Standard  2022 - Rating           5   \n",
       "\n",
       "  adult_occupant_safety child_occupant_safety road_users_safety safety_assist  \n",
       "0                   87%                   87%               84%           81%  \n",
       "1                   93%                   85%               80%           79%  \n",
       "2                   96%                   85%               83%           81%  \n",
       "3                   84%                   89%               81%           81%  \n",
       "4                   87%                   87%               68%           88%  "
      ]
     },
     "execution_count": 58,
     "metadata": {},
     "output_type": "execute_result"
    }
   ],
   "source": [
    "euro.head()"
   ]
  },
  {
   "cell_type": "code",
   "execution_count": 59,
   "metadata": {},
   "outputs": [
    {
     "data": {
      "text/plain": [
       "(587, 8)"
      ]
     },
     "execution_count": 59,
     "metadata": {},
     "output_type": "execute_result"
    }
   ],
   "source": [
    "euro.shape"
   ]
  },
  {
   "cell_type": "code",
   "execution_count": 60,
   "metadata": {},
   "outputs": [],
   "source": [
    "time.sleep(7)\n",
    "driver.quit()"
   ]
  },
  {
   "cell_type": "markdown",
   "metadata": {},
   "source": [
    "# Cleaning the Euro NCAP dataset"
   ]
  },
  {
   "cell_type": "code",
   "execution_count": 61,
   "metadata": {},
   "outputs": [],
   "source": [
    "euro['rating_year'] = euro['rating_year'].str.split(n=1).str[0]"
   ]
  },
  {
   "cell_type": "code",
   "execution_count": 62,
   "metadata": {},
   "outputs": [],
   "source": [
    "euro['adult_occupant_safety'] = euro['adult_occupant_safety'].str.replace('%','').astype(int)\n",
    "euro['child_occupant_safety'] = euro['child_occupant_safety'].str.replace('%','').astype(int)\n",
    "euro['road_users_safety'] = euro['road_users_safety'].str.replace('%','').astype(int)\n",
    "euro['safety_assist'] = euro['safety_assist'].str.replace('%','').astype(int)"
   ]
  },
  {
   "cell_type": "code",
   "execution_count": 63,
   "metadata": {},
   "outputs": [],
   "source": [
    "euro['brand'] = euro['brand_model'].str.split(n=1).str[0]\n",
    "euro['model'] = euro['brand_model'].str.split(n=1).str[1]\n",
    "\n",
    "mask = euro['brand_model'].str.startswith('Alfa Romeo')\n",
    "euro.loc[mask, 'brand'] = 'Alfa Romeo'\n",
    "euro.loc[mask, 'model'] = euro.loc[mask, 'brand_model'].str.split(n=2).str[2]"
   ]
  },
  {
   "cell_type": "code",
   "execution_count": 64,
   "metadata": {},
   "outputs": [],
   "source": [
    "euro['brand_model'] = euro['brand_model'].str.lower()\n",
    "euro['brand'] = euro['brand'].str.lower()\n",
    "euro['model'] = euro['model'].str.lower()"
   ]
  },
  {
   "cell_type": "code",
   "execution_count": 65,
   "metadata": {
    "scrolled": true
   },
   "outputs": [
    {
     "data": {
      "text/html": [
       "<div>\n",
       "<style scoped>\n",
       "    .dataframe tbody tr th:only-of-type {\n",
       "        vertical-align: middle;\n",
       "    }\n",
       "\n",
       "    .dataframe tbody tr th {\n",
       "        vertical-align: top;\n",
       "    }\n",
       "\n",
       "    .dataframe thead th {\n",
       "        text-align: right;\n",
       "    }\n",
       "</style>\n",
       "<table border=\"1\" class=\"dataframe\">\n",
       "  <thead>\n",
       "    <tr style=\"text-align: right;\">\n",
       "      <th></th>\n",
       "      <th>brand_model</th>\n",
       "      <th>brand</th>\n",
       "      <th>model</th>\n",
       "    </tr>\n",
       "  </thead>\n",
       "  <tbody>\n",
       "    <tr>\n",
       "      <th>50</th>\n",
       "      <td>alfa romeo tonale</td>\n",
       "      <td>alfa romeo</td>\n",
       "      <td>tonale</td>\n",
       "    </tr>\n",
       "    <tr>\n",
       "      <th>212</th>\n",
       "      <td>alfa romeo giulietta</td>\n",
       "      <td>alfa romeo</td>\n",
       "      <td>giulietta</td>\n",
       "    </tr>\n",
       "    <tr>\n",
       "      <th>258</th>\n",
       "      <td>alfa romeo stelvio</td>\n",
       "      <td>alfa romeo</td>\n",
       "      <td>stelvio</td>\n",
       "    </tr>\n",
       "    <tr>\n",
       "      <th>299</th>\n",
       "      <td>alfa romeo giulia</td>\n",
       "      <td>alfa romeo</td>\n",
       "      <td>giulia</td>\n",
       "    </tr>\n",
       "    <tr>\n",
       "      <th>532</th>\n",
       "      <td>alfa romeo giulietta</td>\n",
       "      <td>alfa romeo</td>\n",
       "      <td>giulietta</td>\n",
       "    </tr>\n",
       "  </tbody>\n",
       "</table>\n",
       "</div>"
      ],
      "text/plain": [
       "              brand_model       brand      model\n",
       "50      alfa romeo tonale  alfa romeo     tonale\n",
       "212  alfa romeo giulietta  alfa romeo  giulietta\n",
       "258    alfa romeo stelvio  alfa romeo    stelvio\n",
       "299     alfa romeo giulia  alfa romeo     giulia\n",
       "532  alfa romeo giulietta  alfa romeo  giulietta"
      ]
     },
     "execution_count": 65,
     "metadata": {},
     "output_type": "execute_result"
    }
   ],
   "source": [
    "euro[euro['brand']=='alfa romeo'][['brand_model','brand','model']]"
   ]
  },
  {
   "cell_type": "code",
   "execution_count": 66,
   "metadata": {},
   "outputs": [
    {
     "data": {
      "text/html": [
       "<div>\n",
       "<style scoped>\n",
       "    .dataframe tbody tr th:only-of-type {\n",
       "        vertical-align: middle;\n",
       "    }\n",
       "\n",
       "    .dataframe tbody tr th {\n",
       "        vertical-align: top;\n",
       "    }\n",
       "\n",
       "    .dataframe thead th {\n",
       "        text-align: right;\n",
       "    }\n",
       "</style>\n",
       "<table border=\"1\" class=\"dataframe\">\n",
       "  <thead>\n",
       "    <tr style=\"text-align: right;\">\n",
       "      <th></th>\n",
       "      <th>brand_model</th>\n",
       "      <th>safety_equipement</th>\n",
       "      <th>rating_year</th>\n",
       "      <th>star_rating</th>\n",
       "      <th>adult_occupant_safety</th>\n",
       "      <th>child_occupant_safety</th>\n",
       "      <th>road_users_safety</th>\n",
       "      <th>safety_assist</th>\n",
       "      <th>brand</th>\n",
       "      <th>model</th>\n",
       "    </tr>\n",
       "  </thead>\n",
       "  <tbody>\n",
       "    <tr>\n",
       "      <th>0</th>\n",
       "      <td>lexus rz</td>\n",
       "      <td>Standard</td>\n",
       "      <td>2023</td>\n",
       "      <td>5</td>\n",
       "      <td>87</td>\n",
       "      <td>87</td>\n",
       "      <td>84</td>\n",
       "      <td>81</td>\n",
       "      <td>lexus</td>\n",
       "      <td>rz</td>\n",
       "    </tr>\n",
       "    <tr>\n",
       "      <th>1</th>\n",
       "      <td>nio el7</td>\n",
       "      <td>Standard</td>\n",
       "      <td>2023</td>\n",
       "      <td>5</td>\n",
       "      <td>93</td>\n",
       "      <td>85</td>\n",
       "      <td>80</td>\n",
       "      <td>79</td>\n",
       "      <td>nio</td>\n",
       "      <td>el7</td>\n",
       "    </tr>\n",
       "    <tr>\n",
       "      <th>2</th>\n",
       "      <td>nio et5</td>\n",
       "      <td>Standard</td>\n",
       "      <td>2023</td>\n",
       "      <td>5</td>\n",
       "      <td>96</td>\n",
       "      <td>85</td>\n",
       "      <td>83</td>\n",
       "      <td>81</td>\n",
       "      <td>nio</td>\n",
       "      <td>et5</td>\n",
       "    </tr>\n",
       "    <tr>\n",
       "      <th>3</th>\n",
       "      <td>jeep grand cherokee</td>\n",
       "      <td>Standard</td>\n",
       "      <td>2022</td>\n",
       "      <td>5</td>\n",
       "      <td>84</td>\n",
       "      <td>89</td>\n",
       "      <td>81</td>\n",
       "      <td>81</td>\n",
       "      <td>jeep</td>\n",
       "      <td>grand cherokee</td>\n",
       "    </tr>\n",
       "    <tr>\n",
       "      <th>4</th>\n",
       "      <td>chery omoda5</td>\n",
       "      <td>Standard</td>\n",
       "      <td>2022</td>\n",
       "      <td>5</td>\n",
       "      <td>87</td>\n",
       "      <td>87</td>\n",
       "      <td>68</td>\n",
       "      <td>88</td>\n",
       "      <td>chery</td>\n",
       "      <td>omoda5</td>\n",
       "    </tr>\n",
       "  </tbody>\n",
       "</table>\n",
       "</div>"
      ],
      "text/plain": [
       "           brand_model safety_equipement rating_year star_rating  \\\n",
       "0             lexus rz          Standard        2023           5   \n",
       "1              nio el7          Standard        2023           5   \n",
       "2              nio et5          Standard        2023           5   \n",
       "3  jeep grand cherokee          Standard        2022           5   \n",
       "4         chery omoda5          Standard        2022           5   \n",
       "\n",
       "   adult_occupant_safety  child_occupant_safety  road_users_safety  \\\n",
       "0                     87                     87                 84   \n",
       "1                     93                     85                 80   \n",
       "2                     96                     85                 83   \n",
       "3                     84                     89                 81   \n",
       "4                     87                     87                 68   \n",
       "\n",
       "   safety_assist  brand           model  \n",
       "0             81  lexus              rz  \n",
       "1             79    nio             el7  \n",
       "2             81    nio             et5  \n",
       "3             81   jeep  grand cherokee  \n",
       "4             88  chery          omoda5  "
      ]
     },
     "execution_count": 66,
     "metadata": {},
     "output_type": "execute_result"
    }
   ],
   "source": [
    "euro.head()"
   ]
  },
  {
   "cell_type": "code",
   "execution_count": 67,
   "metadata": {},
   "outputs": [
    {
     "data": {
      "text/plain": [
       "(587, 10)"
      ]
     },
     "execution_count": 67,
     "metadata": {},
     "output_type": "execute_result"
    }
   ],
   "source": [
    "euro.shape"
   ]
  },
  {
   "cell_type": "code",
   "execution_count": 68,
   "metadata": {},
   "outputs": [],
   "source": [
    "euro['safety_equipement'] = euro['safety_equipement'].fillna('no_info')"
   ]
  },
  {
   "cell_type": "code",
   "execution_count": 69,
   "metadata": {},
   "outputs": [
    {
     "data": {
      "text/html": [
       "<div>\n",
       "<style scoped>\n",
       "    .dataframe tbody tr th:only-of-type {\n",
       "        vertical-align: middle;\n",
       "    }\n",
       "\n",
       "    .dataframe tbody tr th {\n",
       "        vertical-align: top;\n",
       "    }\n",
       "\n",
       "    .dataframe thead th {\n",
       "        text-align: right;\n",
       "    }\n",
       "</style>\n",
       "<table border=\"1\" class=\"dataframe\">\n",
       "  <thead>\n",
       "    <tr style=\"text-align: right;\">\n",
       "      <th></th>\n",
       "      <th>brand_model</th>\n",
       "      <th>safety_equipement</th>\n",
       "      <th>rating_year</th>\n",
       "      <th>star_rating</th>\n",
       "      <th>adult_occupant_safety</th>\n",
       "      <th>child_occupant_safety</th>\n",
       "      <th>road_users_safety</th>\n",
       "      <th>safety_assist</th>\n",
       "      <th>brand</th>\n",
       "      <th>model</th>\n",
       "    </tr>\n",
       "  </thead>\n",
       "  <tbody>\n",
       "    <tr>\n",
       "      <th>201</th>\n",
       "      <td>mazda 6</td>\n",
       "      <td>Standard</td>\n",
       "      <td>2018</td>\n",
       "      <td>5</td>\n",
       "      <td>95</td>\n",
       "      <td>91</td>\n",
       "      <td>66</td>\n",
       "      <td>73</td>\n",
       "      <td>mazda</td>\n",
       "      <td>6</td>\n",
       "    </tr>\n",
       "    <tr>\n",
       "      <th>408</th>\n",
       "      <td>mazda 6</td>\n",
       "      <td>no_info</td>\n",
       "      <td>2013</td>\n",
       "      <td>5</td>\n",
       "      <td>92</td>\n",
       "      <td>77</td>\n",
       "      <td>66</td>\n",
       "      <td>81</td>\n",
       "      <td>mazda</td>\n",
       "      <td>6</td>\n",
       "    </tr>\n",
       "    <tr>\n",
       "      <th>580</th>\n",
       "      <td>mazda 6</td>\n",
       "      <td>no_info</td>\n",
       "      <td>2009</td>\n",
       "      <td>5</td>\n",
       "      <td>77</td>\n",
       "      <td>81</td>\n",
       "      <td>49</td>\n",
       "      <td>71</td>\n",
       "      <td>mazda</td>\n",
       "      <td>6</td>\n",
       "    </tr>\n",
       "  </tbody>\n",
       "</table>\n",
       "</div>"
      ],
      "text/plain": [
       "    brand_model safety_equipement rating_year star_rating  \\\n",
       "201     mazda 6          Standard        2018           5   \n",
       "408     mazda 6           no_info        2013           5   \n",
       "580     mazda 6           no_info        2009           5   \n",
       "\n",
       "     adult_occupant_safety  child_occupant_safety  road_users_safety  \\\n",
       "201                     95                     91                 66   \n",
       "408                     92                     77                 66   \n",
       "580                     77                     81                 49   \n",
       "\n",
       "     safety_assist  brand model  \n",
       "201             73  mazda     6  \n",
       "408             81  mazda     6  \n",
       "580             71  mazda     6  "
      ]
     },
     "execution_count": 69,
     "metadata": {},
     "output_type": "execute_result"
    }
   ],
   "source": [
    "euro[euro['brand_model']=='mazda 6']"
   ]
  },
  {
   "cell_type": "code",
   "execution_count": 70,
   "metadata": {},
   "outputs": [
    {
     "data": {
      "text/html": [
       "<div>\n",
       "<style scoped>\n",
       "    .dataframe tbody tr th:only-of-type {\n",
       "        vertical-align: middle;\n",
       "    }\n",
       "\n",
       "    .dataframe tbody tr th {\n",
       "        vertical-align: top;\n",
       "    }\n",
       "\n",
       "    .dataframe thead th {\n",
       "        text-align: right;\n",
       "    }\n",
       "</style>\n",
       "<table border=\"1\" class=\"dataframe\">\n",
       "  <thead>\n",
       "    <tr style=\"text-align: right;\">\n",
       "      <th></th>\n",
       "      <th>brand_model</th>\n",
       "      <th>safety_equipement</th>\n",
       "      <th>rating_year</th>\n",
       "      <th>star_rating</th>\n",
       "      <th>adult_occupant_safety</th>\n",
       "      <th>child_occupant_safety</th>\n",
       "      <th>road_users_safety</th>\n",
       "      <th>safety_assist</th>\n",
       "      <th>brand</th>\n",
       "      <th>model</th>\n",
       "    </tr>\n",
       "  </thead>\n",
       "  <tbody>\n",
       "    <tr>\n",
       "      <th>43</th>\n",
       "      <td>kia niro</td>\n",
       "      <td>Standard</td>\n",
       "      <td>2022</td>\n",
       "      <td>4</td>\n",
       "      <td>91</td>\n",
       "      <td>84</td>\n",
       "      <td>75</td>\n",
       "      <td>60</td>\n",
       "      <td>kia</td>\n",
       "      <td>niro</td>\n",
       "    </tr>\n",
       "    <tr>\n",
       "      <th>44</th>\n",
       "      <td>kia niro</td>\n",
       "      <td>Safety Pack</td>\n",
       "      <td>2022</td>\n",
       "      <td>5</td>\n",
       "      <td>91</td>\n",
       "      <td>84</td>\n",
       "      <td>76</td>\n",
       "      <td>79</td>\n",
       "      <td>kia</td>\n",
       "      <td>niro</td>\n",
       "    </tr>\n",
       "    <tr>\n",
       "      <th>293</th>\n",
       "      <td>kia niro</td>\n",
       "      <td>Standard</td>\n",
       "      <td>2016</td>\n",
       "      <td>4</td>\n",
       "      <td>83</td>\n",
       "      <td>80</td>\n",
       "      <td>57</td>\n",
       "      <td>59</td>\n",
       "      <td>kia</td>\n",
       "      <td>niro</td>\n",
       "    </tr>\n",
       "    <tr>\n",
       "      <th>294</th>\n",
       "      <td>kia niro</td>\n",
       "      <td>Safety Pack</td>\n",
       "      <td>2016</td>\n",
       "      <td>5</td>\n",
       "      <td>91</td>\n",
       "      <td>80</td>\n",
       "      <td>70</td>\n",
       "      <td>81</td>\n",
       "      <td>kia</td>\n",
       "      <td>niro</td>\n",
       "    </tr>\n",
       "  </tbody>\n",
       "</table>\n",
       "</div>"
      ],
      "text/plain": [
       "    brand_model safety_equipement rating_year star_rating  \\\n",
       "43     kia niro          Standard        2022           4   \n",
       "44     kia niro       Safety Pack        2022           5   \n",
       "293    kia niro          Standard        2016           4   \n",
       "294    kia niro       Safety Pack        2016           5   \n",
       "\n",
       "     adult_occupant_safety  child_occupant_safety  road_users_safety  \\\n",
       "43                      91                     84                 75   \n",
       "44                      91                     84                 76   \n",
       "293                     83                     80                 57   \n",
       "294                     91                     80                 70   \n",
       "\n",
       "     safety_assist brand model  \n",
       "43              60   kia  niro  \n",
       "44              79   kia  niro  \n",
       "293             59   kia  niro  \n",
       "294             81   kia  niro  "
      ]
     },
     "execution_count": 70,
     "metadata": {},
     "output_type": "execute_result"
    }
   ],
   "source": [
    "euro[euro['brand_model']=='kia niro']"
   ]
  },
  {
   "cell_type": "code",
   "execution_count": 71,
   "metadata": {},
   "outputs": [],
   "source": [
    "euro = euro.drop(euro[euro['safety_equipement'].str.contains('Safety Pack')].index).reset_index(drop=True)"
   ]
  },
  {
   "cell_type": "code",
   "execution_count": 72,
   "metadata": {},
   "outputs": [
    {
     "data": {
      "text/plain": [
       "(570, 10)"
      ]
     },
     "execution_count": 72,
     "metadata": {},
     "output_type": "execute_result"
    }
   ],
   "source": [
    "euro.shape"
   ]
  },
  {
   "cell_type": "code",
   "execution_count": 73,
   "metadata": {},
   "outputs": [],
   "source": [
    "euro.drop_duplicates(subset='brand_model', inplace=True, ignore_index=True)"
   ]
  },
  {
   "cell_type": "code",
   "execution_count": 77,
   "metadata": {},
   "outputs": [
    {
     "data": {
      "text/plain": [
       "(450, 10)"
      ]
     },
     "execution_count": 77,
     "metadata": {},
     "output_type": "execute_result"
    }
   ],
   "source": [
    "euro.shape"
   ]
  },
  {
   "cell_type": "markdown",
   "metadata": {},
   "source": [
    "## Merging the datasets"
   ]
  },
  {
   "cell_type": "code",
   "execution_count": 93,
   "metadata": {},
   "outputs": [
    {
     "data": {
      "text/plain": [
       "(625, 6)"
      ]
     },
     "execution_count": 93,
     "metadata": {},
     "output_type": "execute_result"
    }
   ],
   "source": [
    "auto.shape"
   ]
  },
  {
   "cell_type": "code",
   "execution_count": 94,
   "metadata": {},
   "outputs": [],
   "source": [
    "merge = auto.merge(euro, on=['brand','model','brand_model'], how='left')"
   ]
  },
  {
   "cell_type": "code",
   "execution_count": 95,
   "metadata": {},
   "outputs": [
    {
     "data": {
      "text/plain": [
       "(625, 13)"
      ]
     },
     "execution_count": 95,
     "metadata": {},
     "output_type": "execute_result"
    }
   ],
   "source": [
    "merge.shape"
   ]
  },
  {
   "cell_type": "markdown",
   "metadata": {},
   "source": [
    "### Uploading everything to Mongo "
   ]
  },
  {
   "cell_type": "code",
   "execution_count": 100,
   "metadata": {},
   "outputs": [],
   "source": [
    "import pymongo \n",
    "import json"
   ]
  },
  {
   "cell_type": "code",
   "execution_count": 97,
   "metadata": {},
   "outputs": [],
   "source": [
    "df = merge[merge['rating_year'].notnull()].reset_index(drop=True)"
   ]
  },
  {
   "cell_type": "code",
   "execution_count": 98,
   "metadata": {},
   "outputs": [
    {
     "data": {
      "text/plain": [
       "(169, 13)"
      ]
     },
     "execution_count": 98,
     "metadata": {},
     "output_type": "execute_result"
    }
   ],
   "source": [
    "df.shape"
   ]
  },
  {
   "cell_type": "code",
   "execution_count": 101,
   "metadata": {},
   "outputs": [],
   "source": [
    "client = pymongo.MongoClient(\"mongodb://localhost:27017\")"
   ]
  },
  {
   "cell_type": "code",
   "execution_count": 102,
   "metadata": {},
   "outputs": [],
   "source": [
    "data = df.to_dict(orient = \"records\")"
   ]
  },
  {
   "cell_type": "code",
   "execution_count": 103,
   "metadata": {},
   "outputs": [],
   "source": [
    "db = client[\"ProjectDataManagement\"]"
   ]
  },
  {
   "cell_type": "code",
   "execution_count": 104,
   "metadata": {},
   "outputs": [
    {
     "data": {
      "text/plain": [
       "<pymongo.results.InsertManyResult at 0x19162535ee0>"
      ]
     },
     "execution_count": 104,
     "metadata": {},
     "output_type": "execute_result"
    }
   ],
   "source": [
    "db.Cars.insert_many(data)"
   ]
  }
 ],
 "metadata": {
  "kernelspec": {
   "display_name": "Python 3",
   "language": "python",
   "name": "python3"
  },
  "language_info": {
   "codemirror_mode": {
    "name": "ipython",
    "version": 3
   },
   "file_extension": ".py",
   "mimetype": "text/x-python",
   "name": "python",
   "nbconvert_exporter": "python",
   "pygments_lexer": "ipython3",
   "version": "3.8.5"
  }
 },
 "nbformat": 4,
 "nbformat_minor": 4
}
